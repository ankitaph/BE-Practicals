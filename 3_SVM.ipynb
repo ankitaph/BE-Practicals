{
 "cells": [
  {
   "cell_type": "markdown",
   "id": "bd9008b0",
   "metadata": {
    "id": "bd9008b0"
   },
   "source": [
    "Implementation of Support Vector Machines (SVM) for classifying images of handwritten digits into their respective numerical classes (0 to 9)."
   ]
  },
  {
   "cell_type": "code",
   "execution_count": null,
   "id": "1ff8583d",
   "metadata": {
    "id": "1ff8583d"
   },
   "outputs": [],
   "source": [
    "import pandas as pd\n",
    "import numpy as np\n",
    "import matplotlib.pyplot as plt\n",
    "from sklearn.preprocessing import StandardScaler\n",
    "from sklearn.model_selection import train_test_split\n",
    "from sklearn.metrics import accuracy_score, classification_report\n",
    "\n",
    "from sklearn import datasets\n",
    "from sklearn.svm import SVC\n",
    "\n",
    "# Load the MNIST dataset\n",
    "digits = datasets.load_digits()\n"
   ]
  },
  {
   "cell_type": "code",
   "execution_count": null,
   "id": "174cc8e8",
   "metadata": {
    "id": "174cc8e8"
   },
   "outputs": [],
   "source": [
    "# Choose variables\n",
    "X = digits.data\n",
    "y = digits.target\n",
    "\n",
    "# Split dataset\n",
    "X_train, X_test, y_train, y_test = train_test_split(X, y, test_size=0.2, random_state=42)\n",
    "\n",
    "# Logistic Regression\n",
    "model = SVC(kernel='linear')\n",
    "model.fit(X_train, y_train)\n",
    "y_pred = model.predict(X_test)\n",
    "accuracy = accuracy_score(y_test, y_pred)\n",
    "print(\"SVM Accuracy:\", accuracy)\n",
    "\n",
    "\n",
    "# You can try different kernels to find the best hyperparameters\n",
    "# Linear Kernel:\n",
    "# The linear kernel is the simplest kernel and is used for linearly separable data.\n",
    "# It defines the decision boundary as a hyperplane in the original feature space.\n",
    "# The linear kernel is often used when there is a large number of features.\n",
    "\n",
    "# Polynomial Kernel:\n",
    "# The polynomial kernel allows for modeling of non-linear relationships between data points.\n",
    "# It introduces a parameter 'd' (degree) that controls the degree of the polynomial.\n",
    "# Higher values of 'd' can lead to more complex decision boundaries but may also increase the risk of overfitting.\n",
    "\n",
    "# Radial Basis Function (RBF) Kernel:\n",
    "# The RBF kernel (also known as the Gaussian kernel) is a popular choice for SVMs.\n",
    "# It is suitable for capturing complex, non-linear decision boundaries.\n",
    "# The RBF kernel introduces a parameter 'gamma' that controls the shape of the decision boundary.\n",
    "# Smaller values of 'gamma' result in a wider boundary, while larger values result in a narrower boundary.\n",
    "\n",
    "# Sigmoid Kernel:\n",
    "# The sigmoid kernel is another non-linear kernel used in SVMs.\n",
    "# It is often used in applications where the data distribution is not well-known or exhibits a sigmoid-like shape.\n",
    "# It introduces parameters 'gamma' and 'coef0' to control the shape of the boundary.\n",
    "\n",
    "# Custom Kernels:\n",
    "# In addition to the standard kernels mentioned above, SVMs can also use custom kernels.\n",
    "# Custom kernels allow you to define a domain-specific kernel function based on your problem's characteristics."
   ]
  }
 ],
 "metadata": {
  "colab": {
   "provenance": []
  },
  "kernelspec": {
   "display_name": "Python 3 (ipykernel)",
   "language": "python",
   "name": "python3"
  },
  "language_info": {
   "codemirror_mode": {
    "name": "ipython",
    "version": 3
   },
   "file_extension": ".py",
   "mimetype": "text/x-python",
   "name": "python",
   "nbconvert_exporter": "python",
   "pygments_lexer": "ipython3",
   "version": "3.11.4"
  }
 },
 "nbformat": 4,
 "nbformat_minor": 5
}
