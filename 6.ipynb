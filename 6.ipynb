{
 "cells": [
  {
   "cell_type": "markdown",
   "metadata": {
    "id": "R659MYgil7sb"
   },
   "source": [
    " Build the web crawler to pull product information and links from an e-commerce website"
   ]
  },
  {
   "cell_type": "code",
   "execution_count": 1,
   "metadata": {
    "colab": {
     "base_uri": "https://localhost:8080/"
    },
    "id": "i3LGbVVJGRXh",
    "outputId": "9bb7be22-7a97-49e7-918b-04607129c4d5"
   },
   "outputs": [
    {
     "name": "stdout",
     "output_type": "stream",
     "text": [
      "Product Name: Hewlett Packar...\n",
      "Product Price: $364.46\n",
      "Product Link: /test-sites/e-commerce/allinone/product/550\n",
      "\n",
      "\n",
      "Product Name: Acer Extensa 1...\n",
      "Product Price: $439.73\n",
      "Product Link: /test-sites/e-commerce/allinone/product/565\n",
      "\n",
      "\n",
      "Product Name: Asus EeeBook R...\n",
      "Product Price: $433.30\n",
      "Product Link: /test-sites/e-commerce/allinone/product/562\n",
      "\n",
      "\n"
     ]
    }
   ],
   "source": [
    "import requests\n",
    "from bs4 import BeautifulSoup\n",
    "\n",
    "url = \"https://webscraper.io/test-sites/e-commerce/allinone\"\n",
    "\n",
    "response = requests.get(url)\n",
    "\n",
    "if response.status_code == 200:\n",
    "    soup = BeautifulSoup(response.text, 'html.parser')\n",
    "\n",
    "    product_divs = soup.find_all('div', class_='col-md-4 col-xl-4 col-lg-4')\n",
    "\n",
    "    for product_div in product_divs:\n",
    "        product_name = product_div.find('a', class_='title').text.strip()\n",
    "        product_price = product_div.find('h4', class_='float-end price card-title pull-right').text.strip()\n",
    "        product_link = product_div.find('a', class_='title')['href']\n",
    "\n",
    "        print(\"Product Name:\", product_name)\n",
    "        print(\"Product Price:\", product_price)\n",
    "        print(\"Product Link:\", product_link)\n",
    "        print(\"\\n\")\n",
    "else:\n",
    "    print(\"Failed to retrieve the page. Status code:\", response.status_code)\n"
   ]
  },
  {
   "cell_type": "code",
   "execution_count": null,
   "metadata": {},
   "outputs": [],
   "source": []
  }
 ],
 "metadata": {
  "colab": {
   "provenance": []
  },
  "kernelspec": {
   "display_name": "Python 3 (ipykernel)",
   "language": "python",
   "name": "python3"
  },
  "language_info": {
   "codemirror_mode": {
    "name": "ipython",
    "version": 3
   },
   "file_extension": ".py",
   "mimetype": "text/x-python",
   "name": "python",
   "nbconvert_exporter": "python",
   "pygments_lexer": "ipython3",
   "version": "3.11.4"
  }
 },
 "nbformat": 4,
 "nbformat_minor": 1
}
